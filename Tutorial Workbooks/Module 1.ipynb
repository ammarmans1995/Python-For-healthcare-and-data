{
  "cells": [
    {
      "cell_type": "markdown",
      "id": "3d8e5493",
      "metadata": {
        "id": "3d8e5493"
      },
      "source": [
        "<h1>Welcome to Module 1</h1>"
      ]
    },
    {
      "cell_type": "markdown",
      "source": [
        "In this module we are going to look at the following:\n",
        "1.   The **print** statement\n",
        "2.   The basic data types in python: Int, Float, Bool and Strings\n",
        "3.   Arithmetic Operators in python\n",
        "4.   Arithmetic operations in python\n",
        "5.   Boolean operators\n",
        "6.   Boolean expressions\n",
        "7.   Variables\n",
        "8.   The **input** command\n",
        "\n",
        "\n",
        "\n"
      ],
      "metadata": {
        "id": "kB5Mjp8hjvDF"
      },
      "id": "kB5Mjp8hjvDF"
    },
    {
      "cell_type": "markdown",
      "source": [
        "# The print statement\n",
        "The ***print*** statement is a built-function used to display output on the console. It can be used to print a message (i.e. text), a value (i.e. number) or a combination of both.\n",
        "\n",
        "The syntax for writing a ***print*** statement is shown below,\n",
        "\n",
        "```\n",
        "print(\"Hello, World!\")\n",
        "```\n",
        "The command above displays the text \"Hello, World!\" into the console. \n",
        "\n",
        "Try this yourself. First, create a code cell below this cell and print the following text. \"Hi! My name is your-name-goes-here\". \n",
        "\n"
      ],
      "metadata": {
        "id": "70hIarkVkxLc"
      },
      "id": "70hIarkVkxLc"
    },
    {
      "cell_type": "markdown",
      "source": [],
      "metadata": {
        "id": "cdHRa7Y5mqhZ"
      },
      "id": "cdHRa7Y5mqhZ"
    }
  ],
  "metadata": {
    "kernelspec": {
      "display_name": "Python 3 (ipykernel)",
      "language": "python",
      "name": "python3"
    },
    "language_info": {
      "codemirror_mode": {
        "name": "ipython",
        "version": 3
      },
      "file_extension": ".py",
      "mimetype": "text/x-python",
      "name": "python",
      "nbconvert_exporter": "python",
      "pygments_lexer": "ipython3",
      "version": "3.10.8"
    },
    "colab": {
      "provenance": [],
      "toc_visible": true
    }
  },
  "nbformat": 4,
  "nbformat_minor": 5
}