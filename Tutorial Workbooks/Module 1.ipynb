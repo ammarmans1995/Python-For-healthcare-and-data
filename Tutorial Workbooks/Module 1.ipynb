{
  "cells": [
    {
      "cell_type": "markdown",
      "id": "3d8e5493",
      "metadata": {
        "id": "3d8e5493"
      },
      "source": [
        "<h1><strong>Welcome to Module 1</strong></h1>"
      ]
    },
    {
      "attachments": {},
      "cell_type": "markdown",
      "id": "kB5Mjp8hjvDF",
      "metadata": {
        "id": "kB5Mjp8hjvDF"
      },
      "source": [
        "In this module we are going to look at the following:\n",
        "1.   The **print** statement\n",
        "2.   Adding comments\n",
        "3.   The basic data types in python: Int, Float, Bool and Strings\n",
        "4.   Arithmetic operators and expressions\n",
        "5.   Boolean expressions\n",
        "6.   Variables\n",
        "7.   The **input** command\n",
        "\n",
        "\n",
        "\n"
      ]
    },
    {
      "attachments": {},
      "cell_type": "markdown",
      "id": "70hIarkVkxLc",
      "metadata": {
        "id": "70hIarkVkxLc"
      },
      "source": [
        "<h2> The <em>print</em> statement</h2>\n",
        "\n",
        "The ***print*** statement is a built-function used to display output on the console. It can be used to print a message (i.e. text), a value (i.e. number) or a combination of both.\n",
        "\n",
        "The syntax for writing a ***print*** statement is shown below,\n",
        "\n",
        "```\n",
        "print(\"Hello, World!\")\n",
        "```\n",
        "The command above displays the text \"Hello, World!\" into the console. \n",
        "\n",
        "Try this yourself. First, create a code cell below this cell and print the following text. \"Hi! My name is your-name-goes-here\". \n",
        "\n"
      ]
    },
    {
      "cell_type": "code",
      "execution_count": null,
      "id": "LeFMuLc5B221",
      "metadata": {
        "colab": {
          "base_uri": "https://localhost:8080/"
        },
        "id": "LeFMuLc5B221",
        "outputId": "aed7af91-9366-488c-f4aa-07aeada8a760"
      },
      "outputs": [],
      "source": [
        "print(\"Hi! My name is Ammar\")"
      ]
    },
    {
      "cell_type": "markdown",
      "id": "Qflv9CgjB-HF",
      "metadata": {
        "id": "Qflv9CgjB-HF"
      },
      "source": [
        "We can use the print statement to display values as well. Look at the example below.\n",
        "\n",
        "```\n",
        "print(25)\n",
        "```\n",
        "The above code can be used to print the value 25."
      ]
    },
    {
      "cell_type": "markdown",
      "id": "u7x8yVx2DZot",
      "metadata": {
        "id": "u7x8yVx2DZot"
      },
      "source": [
        "<h2>Python's basic data types</h2>\n",
        "\n",
        "In programming, data is a fundamental concept. Data types define the type of data that can be stored in a variable. Understanding data types is critical for writing correct and efficient Python programs. In Python, there are four main data types that you can work with: \n",
        "\n",
        "*   Integers\n",
        "*   Floats\n",
        "*   Strings\n",
        "*   Booleans\n",
        "\n"
      ]
    },
    {
      "cell_type": "markdown",
      "id": "azas05q3DMGt",
      "metadata": {
        "id": "azas05q3DMGt"
      },
      "source": [
        "<h3>Integers</h3>\n",
        "\n",
        "Integers are whole numbers with no decimal points. They can be positive or negative. In Python, integers are represented using the <strong><em>'int'</em></strong> data type. For example, 5, -10, and 0 are all integers. You can perform arithmetic operations on integers, such as addition, subtraction, multiplication and many more.\n",
        "\n",
        "Examples of integers are: 5, 10, -60, 31\n"
      ]
    },
    {
      "cell_type": "markdown",
      "id": "lDBJBJqeFgZ0",
      "metadata": {
        "id": "lDBJBJqeFgZ0"
      },
      "source": [
        "<h3>Floats</h3>\n",
        "\n",
        "Floats, also called floating points, are decimal numbers. They can be positive or negative. In Python, floats are represented using the <strong><em>'float'</em></strong> data type. For example, 3.14, -2.5, and 0.0 are all floats. You can perform arithmetic operations on floats, just like with integers.\n",
        "\n",
        "Examples of floats are: 3.14, 5.0, 6.9, -27.5"
      ]
    },
    {
      "cell_type": "markdown",
      "id": "WbPfs4kZFhX8",
      "metadata": {
        "id": "WbPfs4kZFhX8"
      },
      "source": [
        "<h3>Strings</h3>\n",
        "\n",
        "Strings are sequences of characters. They can contain letters, numbers, and symbols. In Python, strings are represented using the <strong><em>'str'</em></strong> data type. You can create a string by enclosing characters in single or double quotes. For example, \"hello\", 'world', and \"123\" are all strings. You can perform string concatenation and indexing operations on strings.\n",
        "\n",
        "One thing to note with strings. Be consistent with type of quotes's you use. If you use single quotes to start a string, then use single quotes to close the string. The code below will give you an error as there is inconsistency in the quotes used. \n",
        "\n",
        "```\n",
        "print(\"Hello, World')\n",
        "```\n",
        "Try this yourself. Create a new code cell and try printing a string with non-matching quotes.\n"
      ]
    },
    {
      "cell_type": "markdown",
      "id": "fQ3vQTm0Fh0U",
      "metadata": {
        "id": "fQ3vQTm0Fh0U"
      },
      "source": [
        "<h3>Booleans</h3>\n",
        "\n",
        "Booleans are values that can be either true or false. In Python, booleans are represented using the <strong><em>'bool'</em></strong> data type. For example, True and False are booleans. Booleans are often used in control structures, such as if statements and loops, to determine which code to execute.\n"
      ]
    },
    {
      "cell_type": "markdown",
      "id": "c_N2BVcINCUq",
      "metadata": {
        "id": "c_N2BVcINCUq"
      },
      "source": [
        "<h3>The <strong><em>type()</em></strong> function</h3>\n",
        "\n",
        "The type() function is a built-in Python function that allows you to determine the type of an object. It takes an object as its argument and returns the type of the object.\n",
        "\n",
        "The syntax of the type function is shown below.\n",
        "\n",
        "```\n",
        "# type(value)\n",
        "```"
      ]
    },
    {
      "cell_type": "code",
      "execution_count": null,
      "id": "ti_KAxvXNrVq",
      "metadata": {
        "colab": {
          "base_uri": "https://localhost:8080/"
        },
        "id": "ti_KAxvXNrVq",
        "outputId": "bafa4932-4ba2-4423-9adf-60b775fd46e4"
      },
      "outputs": [],
      "source": [
        "print(type(5)) # <class 'int'>\n",
        "\n",
        "print(type(3.14)) # <class 'float'>\n",
        "\n",
        "print(type(\"hello\")) # <class 'str'>\n",
        "\n",
        "print(type(True)) # <class 'bool'>\n"
      ]
    },
    {
      "cell_type": "markdown",
      "id": "P9sCog6XIhFH",
      "metadata": {
        "id": "P9sCog6XIhFH"
      },
      "source": [
        "<h2>Arithmetic operators and Expressions</h2>\n",
        "\n",
        "Arithmetic operators are used in Python to perform mathematical operations on numeric data types, such as integers and floats. There are several arithmetic operators in Python:\n",
        "\n",
        "*  Addition (+): Adds two operands.\n",
        "*  Subtraction (-): Subtracts the second operand from the first.\n",
        "*  Multiplication (*): Multiplies two operands.\n",
        "*  Division (/): Divides the first operand by the second.\n",
        "*  Floor Division (//): Divides the first operand by the second and rounds down to the nearest integer.\n",
        "*  Modulus (%): Returns the remainder of the division of the first operand by the second.\n",
        "*  Exponentiation (**): Raises the first operand to the power of the second.\n",
        "\n",
        "An expression is a combination of values, variables, and operators that are evaluated to produce a result. In Python, expressions can include arithmetic operations using the arithmetic operators listed above."
      ]
    },
    {
      "cell_type": "code",
      "execution_count": null,
      "id": "9YkDoss3Jknm",
      "metadata": {
        "colab": {
          "base_uri": "https://localhost:8080/"
        },
        "id": "9YkDoss3Jknm",
        "outputId": "0abd19a1-031c-4885-ac69-4e1380accca4"
      },
      "outputs": [],
      "source": [
        "print(2 + 3)\n",
        "print(5 - 1)\n",
        "print(3 * 4)\n",
        "print(10 / 2)\n",
        "print(7 // 3)\n",
        "print(11 % 3)\n",
        "print(2 ** 4)"
      ]
    },
    {
      "cell_type": "markdown",
      "id": "sacGpNnwN9rJ",
      "metadata": {
        "id": "sacGpNnwN9rJ"
      },
      "source": [
        "<h4>Operator Precedence</h4>\n",
        "\n",
        "In Python, arithmetic operators follow a specific order of precedence (PEDMAS). This determines the order in which the operators are evaluated in an expression. The order of precedence is as follows:\n",
        "\n",
        "* Parentheses\n",
        "* Exponentiation (**)\n",
        "* Multiplication (*), Division (/), Floor Division (//), and Modulus (%)\n",
        "* Addition (+) and Subtraction (-)\n",
        "\n",
        "You can use parentheses to group operations and change the order of precedence. For practice, trying calculate what the below expressions will equate to. Before you run cell, analyze each expression."
      ]
    },
    {
      "cell_type": "code",
      "execution_count": null,
      "id": "7UK7q4DMOViB",
      "metadata": {
        "id": "7UK7q4DMOViB"
      },
      "outputs": [],
      "source": [
        "print(3 + 5 * 2)"
      ]
    },
    {
      "cell_type": "code",
      "execution_count": null,
      "id": "pFp_zrbkOa8Z",
      "metadata": {
        "id": "pFp_zrbkOa8Z"
      },
      "outputs": [],
      "source": [
        "print(4 / 2 * 3)"
      ]
    },
    {
      "cell_type": "code",
      "execution_count": null,
      "id": "hblB-qSROik5",
      "metadata": {
        "id": "hblB-qSROik5"
      },
      "outputs": [],
      "source": [
        "print(2 + 6 / 2 ** 2)"
      ]
    },
    {
      "cell_type": "code",
      "execution_count": null,
      "id": "Seg_ob48OmRx",
      "metadata": {
        "id": "Seg_ob48OmRx"
      },
      "outputs": [],
      "source": [
        "print(10 % 3 + 2 * 4)"
      ]
    },
    {
      "cell_type": "code",
      "execution_count": null,
      "id": "m_YjXOyROpY5",
      "metadata": {
        "id": "m_YjXOyROpY5"
      },
      "outputs": [],
      "source": [
        "print((5 + 3) * 2 - 4 / 2)"
      ]
    },
    {
      "cell_type": "markdown",
      "id": "AY0t7EizPK7w",
      "metadata": {
        "id": "AY0t7EizPK7w"
      },
      "source": [
        "<h2>Boolean expressions</h2>\n",
        "\n",
        "Boolean expressions are expressions that evaluate to a Boolean value, which is either True or False. Boolean expressions are commonly used in programming for making decisions and controlling the flow of code execution.\n",
        "\n",
        "For example consider the expression below:\n",
        "```\n",
        "3 + 5 * 2 == 14 - 1\n",
        "```\n",
        "Notice what we have is two arithmetic expressions on either side of the '==' operator. This operator checks to see if the expression on the RHS of the operator equals the expression on the LHS of the operation. In this case both the expressions equal 13 and hence the boolean expressions will equate to True.\n"
      ]
    },
    {
      "cell_type": "code",
      "execution_count": null,
      "id": "XgC1ChYWQabf",
      "metadata": {
        "colab": {
          "base_uri": "https://localhost:8080/"
        },
        "id": "XgC1ChYWQabf",
        "outputId": "1ab7e499-6492-4699-f15a-1e529d4357d9"
      },
      "outputs": [],
      "source": [
        "print(3 + 5 * 2 == 14 - 1)"
      ]
    },
    {
      "cell_type": "markdown",
      "id": "PvtU_FwwQd-O",
      "metadata": {
        "id": "PvtU_FwwQd-O"
      },
      "source": [
        "If we want to check if the two expressions do not equate to the same value then we can use the '!=' operator.\n"
      ]
    },
    {
      "cell_type": "code",
      "execution_count": null,
      "id": "o8GuMaHbQtv1",
      "metadata": {
        "colab": {
          "base_uri": "https://localhost:8080/"
        },
        "id": "o8GuMaHbQtv1",
        "outputId": "79d03aba-a86d-4f67-85ee-b395091059e8"
      },
      "outputs": [],
      "source": [
        "print(25 != 5 ** 3)"
      ]
    },
    {
      "cell_type": "markdown",
      "id": "TsSs_6qGRzlO",
      "metadata": {
        "id": "TsSs_6qGRzlO"
      },
      "source": [
        "We can also use the \"<\", \"<=\", \">\" and \">=\" operators for our boolean expressions.\n"
      ]
    },
    {
      "cell_type": "code",
      "execution_count": null,
      "id": "ouvBFsVAR9xe",
      "metadata": {
        "colab": {
          "base_uri": "https://localhost:8080/"
        },
        "id": "ouvBFsVAR9xe",
        "outputId": "7aed6059-9721-4307-c173-0ad224f5c983"
      },
      "outputs": [],
      "source": [
        "print(10 < 5)\n",
        "print(25 >= 25)\n",
        "print(5 > 0)\n",
        "print(5 <= 10)"
      ]
    },
    {
      "cell_type": "markdown",
      "id": "aYv9GyIJQ0_K",
      "metadata": {
        "id": "aYv9GyIJQ0_K"
      },
      "source": [
        "<h3>Combining Boolean expressions</h3>\n",
        "\n",
        "We can combine multiple boolean expressions together using the \"and\", \"or\" and \"not\" logics operators.\n",
        "\n",
        "The \"and\" returns True only if all the expressions equate to True\n",
        "\n",
        "The \"or\" operator returns True if any one of the expressions equate to True\n",
        "\n",
        "The \"not\" operator returns the opposite of the operand's value (i.e. 'True' becomes \"False\" and vice-versa)"
      ]
    },
    {
      "cell_type": "code",
      "execution_count": null,
      "id": "V3ahevZxSRPV",
      "metadata": {
        "colab": {
          "base_uri": "https://localhost:8080/"
        },
        "id": "V3ahevZxSRPV",
        "outputId": "dbc66969-b78d-412b-ead4-4ea3d552a2fb"
      },
      "outputs": [],
      "source": [
        "print(5 > 0 and 10 < 15)\n",
        "print(5 < 0 and 10 < 15)\n",
        "\n",
        "print(5 < 0 or 10 < 15)\n",
        "print(5 < 0 or 10 > 15)\n",
        "\n",
        "print(not 5 < 0)\n",
        "print(not 10 > 0)"
      ]
    },
    {
      "cell_type": "markdown",
      "id": "-gZTznBHW8Iw",
      "metadata": {
        "id": "-gZTznBHW8Iw"
      },
      "source": [
        "<h2>Variables</h2>"
      ]
    },
    {
      "cell_type": "markdown",
      "id": "IEv9XV5fa4ql",
      "metadata": {
        "id": "IEv9XV5fa4ql"
      },
      "source": [
        "<h3>Intro to variables</h3>\n",
        "\n",
        "One of the most powerful features of a programming language is the ability to\n",
        "manipulate variables. A variable is a name that refers to a value.\n",
        "\n",
        "<h3>Assigning Values to Variables</h3>\n",
        "\n",
        "To assign a value to a variable in Python, you use the assignment operator (=). For example:\n",
        "\n",
        "```\n",
        "age = 35\n",
        "name = \"John\"\n",
        "is_active = True\n",
        "```\n",
        "Here, we assign the value 35 to the variable age, the string \"John\" to the variable name, and the Boolean value True to the variable is_active.\n"
      ]
    },
    {
      "cell_type": "markdown",
      "id": "N9RXKX4Ra_vN",
      "metadata": {
        "id": "N9RXKX4Ra_vN"
      },
      "source": [
        "<h3>Variable naming conventions</h3>\n",
        "There are some rules to follow when naming variables.\n",
        "\n",
        "1.   Variable names can contain letters, numbers, and underscores. They cannot begin with a number.\n",
        "2.   Python is a case-sensitive language, so age and Age are considered to be different variable names.\n",
        "3.   Avoid using reserved keywords as variable names, such as if, while, for, and class. \n",
        "\n",
        "Are these valid variable names?\n",
        "```\n",
        "age\n",
        "break\n",
        "1Direction\n",
        "my_age\n",
        "```\n",
        "\n",
        "\n",
        "In addition to these rules, there are some guidelines to be used,\n",
        "\n",
        "1.   Use descriptive and meaningful names. For example, X0910e is a valid variable name as it doesn't break any of the rules. However, it does not help us understand the value being stored inside the variable.\n",
        "2.   Avoid using names that are too short or too generic, such as x or temp.\n",
        "3.   Be consistent in your naming conventions throughout your code."
      ]
    },
    {
      "attachments": {},
      "cell_type": "markdown",
      "id": "KERTDjF9bB4t",
      "metadata": {
        "id": "KERTDjF9bB4t"
      },
      "source": [
        "<h3>Using variables</h3>\n",
        "\n",
        "Once you have assigned a value to a variable, you can use the variable in your code to perform operations on that value. For example:\n",
        "\n",
        "```\n",
        "age = 35\n",
        "age = age + 1\n",
        "print(age) # 36\n",
        "```\n",
        "\n"
      ]
    }
  ],
  "metadata": {
    "colab": {
      "provenance": [],
      "toc_visible": true
    },
    "kernelspec": {
      "display_name": "Python 3 (ipykernel)",
      "language": "python",
      "name": "python3"
    },
    "language_info": {
      "codemirror_mode": {
        "name": "ipython",
        "version": 3
      },
      "file_extension": ".py",
      "mimetype": "text/x-python",
      "name": "python",
      "nbconvert_exporter": "python",
      "pygments_lexer": "ipython3",
      "version": "3.10.8"
    }
  },
  "nbformat": 4,
  "nbformat_minor": 5
}
