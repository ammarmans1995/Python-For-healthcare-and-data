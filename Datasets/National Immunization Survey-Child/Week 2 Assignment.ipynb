{
 "cells": [
  {
   "cell_type": "code",
   "execution_count": 1,
   "id": "ac6621c3",
   "metadata": {},
   "outputs": [],
   "source": [
    "import pandas as pd\n",
    "import numpy as np"
   ]
  },
  {
   "cell_type": "code",
   "execution_count": 2,
   "id": "0b65e505",
   "metadata": {},
   "outputs": [
    {
     "data": {
      "text/plain": [
       "(28465, 453)"
      ]
     },
     "execution_count": 2,
     "metadata": {},
     "output_type": "execute_result"
    }
   ],
   "source": [
    "df = pd.read_csv(\"NISPUF17.csv\", index_col = 0)\n",
    "df.shape"
   ]
  },
  {
   "cell_type": "code",
   "execution_count": 3,
   "id": "1ec6214b",
   "metadata": {},
   "outputs": [
    {
     "data": {
      "text/plain": [
       "{'less than high school': 0.10202002459160373,\n",
       " 'high school': 0.172352011241876,\n",
       " 'more than high school but not college': 0.24588090637625154,\n",
       " 'college': 0.47974705779026877}"
      ]
     },
     "execution_count": 3,
     "metadata": {},
     "output_type": "execute_result"
    }
   ],
   "source": [
    "mother_education = df[\"EDUC1\"]\n",
    "mother_education.unique()\n",
    "less_than_high_school = np.sum(df[\"EDUC1\"] == 1)/len(df)\n",
    "high_school = np.sum(df[\"EDUC1\"] == 2)/len(df)\n",
    "more_than_high_school_not_college = np.sum(df[\"EDUC1\"] == 3)/len(df)\n",
    "college = np.sum(df[\"EDUC1\"] == 4)/len(df)\n",
    "myDict = {\"less than high school\": less_than_high_school,\n",
    "         \"high school\": high_school,\n",
    "         \"more than high school but not college\": more_than_high_school_not_college,\n",
    "         \"college\": college}\n",
    "myDict"
   ]
  },
  {
   "cell_type": "code",
   "execution_count": 4,
   "id": "3f435288",
   "metadata": {},
   "outputs": [
    {
     "data": {
      "text/plain": [
       "(1.8799187420058687, 1.380952380952381)"
      ]
     },
     "execution_count": 4,
     "metadata": {},
     "output_type": "execute_result"
    }
   ],
   "source": [
    "vaccine_and_CBF = df[\"P_NUMFLU\"][df[\"CBF_01\"] == 1]\n",
    "vaccine_and_no_CBF = df[\"P_NUMFLU\"][df[\"CBF_01\"] == 77]\n",
    "\n",
    "(vaccine_and_CBF.mean(), vaccine_and_no_CBF.mean())"
   ]
  },
  {
   "cell_type": "code",
   "execution_count": 5,
   "id": "58eaa9f8",
   "metadata": {},
   "outputs": [
    {
     "data": {
      "text/plain": [
       "{'male': 0.009675583380762664, 'female': 0.0077918259335489565}"
      ]
     },
     "execution_count": 5,
     "metadata": {},
     "output_type": "execute_result"
    }
   ],
   "source": [
    "chicken_pox_vaccine = df[(df[\"HAD_CPOX\"] == 1) & (df[\"P_NUMVRC\"] >= 1)]\n",
    "chicken_pox_no_vaccine = df[(df[\"HAD_CPOX\"] == 2) & (df[\"P_NUMVRC\"] >= 1)]\n",
    "\n",
    "female = len(chicken_pox_vaccine[chicken_pox_vaccine[\"SEX\"] == 2])/ len(chicken_pox_no_vaccine[chicken_pox_no_vaccine[\"SEX\"] == 2])\n",
    "male = len(chicken_pox_vaccine[chicken_pox_vaccine[\"SEX\"] == 1])/ len(chicken_pox_no_vaccine[chicken_pox_no_vaccine[\"SEX\"] == 1])\n",
    "{\"male\": male, \"female\": female}\n"
   ]
  },
  {
   "cell_type": "code",
   "execution_count": 7,
   "id": "7ee10b0e",
   "metadata": {},
   "outputs": [
    {
     "data": {
      "text/plain": [
       "array([nan,  1.,  0.,  2.,  3.])"
      ]
     },
     "execution_count": 7,
     "metadata": {},
     "output_type": "execute_result"
    }
   ],
   "source": [
    "df[\"P_NUMVRC\"].unique()"
   ]
  },
  {
   "cell_type": "code",
   "execution_count": null,
   "id": "ec7fa0ab",
   "metadata": {},
   "outputs": [],
   "source": []
  }
 ],
 "metadata": {
  "kernelspec": {
   "display_name": "Python 3 (ipykernel)",
   "language": "python",
   "name": "python3"
  },
  "language_info": {
   "codemirror_mode": {
    "name": "ipython",
    "version": 3
   },
   "file_extension": ".py",
   "mimetype": "text/x-python",
   "name": "python",
   "nbconvert_exporter": "python",
   "pygments_lexer": "ipython3",
   "version": "3.10.8"
  }
 },
 "nbformat": 4,
 "nbformat_minor": 5
}
